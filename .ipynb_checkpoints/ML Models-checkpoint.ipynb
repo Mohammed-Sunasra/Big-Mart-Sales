{
 "cells": [
  {
   "cell_type": "code",
   "execution_count": 14,
   "metadata": {},
   "outputs": [],
   "source": [
    "import pandas as pd\n",
    "import numpy as np\n",
    "import seaborn as sns\n",
    "\n",
    "from sklearn.linear_model import LinearRegression,Lasso, ElasticNet, BayesianRidge\n",
    "from sklearn.model_selection import train_test_split\n",
    "from sklearn.tree import DecisionTreeRegressor\n",
    "from sklearn.ensemble import RandomForestRegressor\n",
    "from sklearn.metrics import mean_squared_error\n",
    "from sklearn.model_selection import cross_val_score, KFold\n",
    "from sklearn.pipeline import make_pipeline\n",
    "from sklearn.preprocessing import RobustScaler\n",
    "from sklearn.kernel_ridge import KernelRidge\n",
    "import xgboost as xgb\n",
    "import lightgbm as lgb\n",
    "\n",
    "\n",
    "TRAIN_PATH = 'data/train_modified.csv'\n",
    "TEST_PATH = 'data/test_modified.csv'"
   ]
  },
  {
   "cell_type": "code",
   "execution_count": 41,
   "metadata": {},
   "outputs": [],
   "source": [
    "data_train = pd.read_csv(TRAIN_PATH,index_col=0)\n",
    "data_test = pd.read_csv(TEST_PATH,index_col=0)\n",
    "df_test = pd.read_csv('data/test.csv')"
   ]
  },
  {
   "cell_type": "code",
   "execution_count": 7,
   "metadata": {
    "scrolled": true
   },
   "outputs": [],
   "source": [
    "def split_x_and_y(data):\n",
    "    y = data['Item_Outlet_Sales']\n",
    "    X = data.drop('Item_Outlet_Sales',axis=1)\n",
    "    return X, y"
   ]
  },
  {
   "cell_type": "code",
   "execution_count": 8,
   "metadata": {},
   "outputs": [],
   "source": [
    "X, y = split_x_and_y(data_train)"
   ]
  },
  {
   "cell_type": "code",
   "execution_count": 9,
   "metadata": {},
   "outputs": [],
   "source": [
    "X_train, X_test, y_train, y_test = train_test_split(X, y, test_size=0.25)"
   ]
  },
  {
   "cell_type": "markdown",
   "metadata": {},
   "source": [
    "### 1. ML Models with train_test_split testing strategy"
   ]
  },
  {
   "cell_type": "code",
   "execution_count": 13,
   "metadata": {},
   "outputs": [],
   "source": [
    "def run_train_test_strategy(X_train, y_train, X_test, y_test,model):\n",
    "    model.fit(X_train, y_train)\n",
    "    y_pred_lin = model.predict(X_test)\n",
    "    print(np.sqrt(mean_squared_error(y_pred_lin,y_test)))"
   ]
  },
  {
   "cell_type": "code",
   "execution_count": 16,
   "metadata": {},
   "outputs": [
    {
     "name": "stdout",
     "output_type": "stream",
     "text": [
      "Linear Regression with train test split strategy\n",
      "1151.488338169082\n",
      "DecisionTree Regression with train test split strategy\n",
      "1604.6756264399035\n",
      "RF Regression with train test split strategy\n",
      "1193.7423095689046\n"
     ]
    }
   ],
   "source": [
    "print(\"Linear Regression with train test split strategy\")\n",
    "run_train_test_strategy(X_train, y_train, X_test, y_test,LinearRegression())\n",
    "\n",
    "print(\"DecisionTree Regression with train test split strategy\")\n",
    "run_train_test_strategy(X_train, y_train, X_test, y_test,DecisionTreeRegressor())\n",
    "\n",
    "print(\"RF Regression with train test split strategy\")\n",
    "run_train_test_strategy(X_train, y_train, X_test, y_test,RandomForestRegressor())"
   ]
  },
  {
   "cell_type": "markdown",
   "metadata": {},
   "source": [
    "### 2. ML Models with k fold validation strategy"
   ]
  },
  {
   "cell_type": "code",
   "execution_count": 18,
   "metadata": {},
   "outputs": [],
   "source": [
    "def run_k_fold_strategy(X, y, cv, model):\n",
    "    scores = cross_val_score(model, X, y, cv=5,scoring='neg_mean_squared_error')\n",
    "    scores = scores * -1\n",
    "    for i, score in enumerate(scores):\n",
    "        print(\"CV No: \", i)\n",
    "        print(np.sqrt(score))"
   ]
  },
  {
   "cell_type": "code",
   "execution_count": 20,
   "metadata": {},
   "outputs": [
    {
     "name": "stdout",
     "output_type": "stream",
     "text": [
      "Linear Regression with train test split strategy\n",
      "CV No:  0\n",
      "1151.2245864639694\n",
      "CV No:  1\n",
      "1125.1828511536687\n",
      "CV No:  2\n",
      "1116.038247055086\n",
      "CV No:  3\n",
      "1132.0195240632083\n",
      "CV No:  4\n",
      "1143.9074383182465\n",
      "RF Regression with train test split strategy\n",
      "CV No:  0\n",
      "1185.6906358121576\n",
      "CV No:  1\n",
      "1203.8891436603037\n",
      "CV No:  2\n",
      "1189.4675023608359\n",
      "CV No:  3\n",
      "1182.2101774735338\n",
      "CV No:  4\n",
      "1177.8739141160202\n"
     ]
    }
   ],
   "source": [
    "print(\"Linear Regression with train test split strategy\")\n",
    "run_k_fold_strategy(X, y, 5, LinearRegression())\n",
    "\n",
    "\n",
    "print(\"RF Regression with train test split strategy\")\n",
    "run_k_fold_strategy(X, y, 5, RandomForestRegressor())"
   ]
  },
  {
   "cell_type": "code",
   "execution_count": 21,
   "metadata": {},
   "outputs": [],
   "source": [
    "def cross_val_testing(model, X, y, cv=5):\n",
    "    kf = KFold(cv, shuffle=True, random_state=42).get_n_splits(X)\n",
    "    rmse = np.sqrt(-cross_val_score(model, X, y, scoring='neg_mean_squared_error', cv=kf))\n",
    "    return rmse"
   ]
  },
  {
   "cell_type": "code",
   "execution_count": 43,
   "metadata": {},
   "outputs": [],
   "source": [
    "lasso = make_pipeline(RobustScaler(), Lasso(alpha = 0.0005, random_state=1))"
   ]
  },
  {
   "cell_type": "code",
   "execution_count": 23,
   "metadata": {},
   "outputs": [
    {
     "name": "stderr",
     "output_type": "stream",
     "text": [
      "/home/mohammed/anaconda3/lib/python3.6/site-packages/sklearn/linear_model/coordinate_descent.py:491: ConvergenceWarning: Objective did not converge. You might want to increase the number of iterations. Fitting data with very small alpha may cause precision problems.\n",
      "  ConvergenceWarning)\n",
      "/home/mohammed/anaconda3/lib/python3.6/site-packages/sklearn/linear_model/coordinate_descent.py:491: ConvergenceWarning: Objective did not converge. You might want to increase the number of iterations. Fitting data with very small alpha may cause precision problems.\n",
      "  ConvergenceWarning)\n",
      "/home/mohammed/anaconda3/lib/python3.6/site-packages/sklearn/linear_model/coordinate_descent.py:491: ConvergenceWarning: Objective did not converge. You might want to increase the number of iterations. Fitting data with very small alpha may cause precision problems.\n",
      "  ConvergenceWarning)\n",
      "/home/mohammed/anaconda3/lib/python3.6/site-packages/sklearn/linear_model/coordinate_descent.py:491: ConvergenceWarning: Objective did not converge. You might want to increase the number of iterations. Fitting data with very small alpha may cause precision problems.\n",
      "  ConvergenceWarning)\n",
      "/home/mohammed/anaconda3/lib/python3.6/site-packages/sklearn/linear_model/coordinate_descent.py:491: ConvergenceWarning: Objective did not converge. You might want to increase the number of iterations. Fitting data with very small alpha may cause precision problems.\n",
      "  ConvergenceWarning)\n"
     ]
    },
    {
     "data": {
      "text/plain": [
       "array([1151.22447498, 1125.18160288, 1116.03640569, 1132.01785519,\n",
       "       1143.90703763])"
      ]
     },
     "execution_count": 23,
     "metadata": {},
     "output_type": "execute_result"
    }
   ],
   "source": [
    "cross_val_testing(lasso, X, y)"
   ]
  },
  {
   "cell_type": "code",
   "execution_count": 24,
   "metadata": {},
   "outputs": [],
   "source": [
    "ENet = make_pipeline(RobustScaler(), ElasticNet(alpha=0.0005, l1_ratio=.9, random_state=3))"
   ]
  },
  {
   "cell_type": "code",
   "execution_count": 25,
   "metadata": {},
   "outputs": [
    {
     "name": "stderr",
     "output_type": "stream",
     "text": [
      "/home/mohammed/anaconda3/lib/python3.6/site-packages/sklearn/linear_model/coordinate_descent.py:491: ConvergenceWarning: Objective did not converge. You might want to increase the number of iterations. Fitting data with very small alpha may cause precision problems.\n",
      "  ConvergenceWarning)\n",
      "/home/mohammed/anaconda3/lib/python3.6/site-packages/sklearn/linear_model/coordinate_descent.py:491: ConvergenceWarning: Objective did not converge. You might want to increase the number of iterations. Fitting data with very small alpha may cause precision problems.\n",
      "  ConvergenceWarning)\n",
      "/home/mohammed/anaconda3/lib/python3.6/site-packages/sklearn/linear_model/coordinate_descent.py:491: ConvergenceWarning: Objective did not converge. You might want to increase the number of iterations. Fitting data with very small alpha may cause precision problems.\n",
      "  ConvergenceWarning)\n",
      "/home/mohammed/anaconda3/lib/python3.6/site-packages/sklearn/linear_model/coordinate_descent.py:491: ConvergenceWarning: Objective did not converge. You might want to increase the number of iterations. Fitting data with very small alpha may cause precision problems.\n",
      "  ConvergenceWarning)\n",
      "/home/mohammed/anaconda3/lib/python3.6/site-packages/sklearn/linear_model/coordinate_descent.py:491: ConvergenceWarning: Objective did not converge. You might want to increase the number of iterations. Fitting data with very small alpha may cause precision problems.\n",
      "  ConvergenceWarning)\n"
     ]
    },
    {
     "data": {
      "text/plain": [
       "array([1151.2400293 , 1125.16970889, 1116.00377933, 1131.99357003,\n",
       "       1143.90884957])"
      ]
     },
     "execution_count": 25,
     "metadata": {},
     "output_type": "execute_result"
    }
   ],
   "source": [
    "cross_val_testing(ENet, X, y)"
   ]
  },
  {
   "cell_type": "code",
   "execution_count": 26,
   "metadata": {},
   "outputs": [],
   "source": [
    "KRR = KernelRidge(alpha=0.6, kernel='polynomial', degree=2, coef0=2.5)"
   ]
  },
  {
   "cell_type": "code",
   "execution_count": 27,
   "metadata": {},
   "outputs": [
    {
     "data": {
      "text/plain": [
       "array([1099.98704966, 1086.74714364, 1070.86742772, 1079.18035022,\n",
       "       1089.18426198])"
      ]
     },
     "execution_count": 27,
     "metadata": {},
     "output_type": "execute_result"
    }
   ],
   "source": [
    "cross_val_testing(KRR, X, y)"
   ]
  },
  {
   "cell_type": "markdown",
   "metadata": {
    "collapsed": true
   },
   "source": [
    "### 3. Solution Submissions"
   ]
  },
  {
   "cell_type": "code",
   "execution_count": 38,
   "metadata": {},
   "outputs": [],
   "source": [
    "KRR.fit(X, y)\n",
    "ypred = KRR.predict(data_test)\n",
    "df_test['Item_Outlet_Sales'] = ypred\n",
    "df_test[['Item_Identifier','Outlet_Identifier','Item_Outlet_Sales']].to_csv('out/submission_krr.csv',index=False)"
   ]
  },
  {
   "cell_type": "code",
   "execution_count": 40,
   "metadata": {},
   "outputs": [
    {
     "name": "stderr",
     "output_type": "stream",
     "text": [
      "/home/mohammed/anaconda3/lib/python3.6/site-packages/sklearn/linear_model/coordinate_descent.py:491: ConvergenceWarning: Objective did not converge. You might want to increase the number of iterations. Fitting data with very small alpha may cause precision problems.\n",
      "  ConvergenceWarning)\n"
     ]
    }
   ],
   "source": [
    "ENet.fit(X, y)\n",
    "ypred = ENet.predict(data_test)\n",
    "df_test['Item_Outlet_Sales'] = ypred\n",
    "df_test[['Item_Identifier','Outlet_Identifier','Item_Outlet_Sales']].to_csv('out/submission_enet.csv',index=False)"
   ]
  },
  {
   "cell_type": "code",
   "execution_count": 45,
   "metadata": {},
   "outputs": [
    {
     "name": "stderr",
     "output_type": "stream",
     "text": [
      "/home/mohammed/anaconda3/lib/python3.6/site-packages/sklearn/linear_model/coordinate_descent.py:491: ConvergenceWarning: Objective did not converge. You might want to increase the number of iterations. Fitting data with very small alpha may cause precision problems.\n",
      "  ConvergenceWarning)\n"
     ]
    }
   ],
   "source": [
    "lasso.fit(X, y)\n",
    "ypred = lasso.predict(data_test)\n",
    "df_test['Item_Outlet_Sales'] = ypred\n",
    "df_test[['Item_Identifier','Outlet_Identifier','Item_Outlet_Sales']].to_csv('out/submission_lasso.csv',index=False)"
   ]
  },
  {
   "cell_type": "code",
   "execution_count": null,
   "metadata": {},
   "outputs": [],
   "source": []
  }
 ],
 "metadata": {
  "kernelspec": {
   "display_name": "Python 3",
   "language": "python",
   "name": "python3"
  },
  "language_info": {
   "codemirror_mode": {
    "name": "ipython",
    "version": 3
   },
   "file_extension": ".py",
   "mimetype": "text/x-python",
   "name": "python",
   "nbconvert_exporter": "python",
   "pygments_lexer": "ipython3",
   "version": "3.6.4"
  }
 },
 "nbformat": 4,
 "nbformat_minor": 2
}
