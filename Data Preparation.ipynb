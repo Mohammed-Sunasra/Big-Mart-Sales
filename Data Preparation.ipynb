{
 "cells": [
  {
   "cell_type": "code",
   "execution_count": 1,
   "metadata": {},
   "outputs": [],
   "source": [
    "import pandas as pd\n",
    "import numpy as np\n",
    "import seaborn as sns\n",
    "import matplotlib.pyplot as plt\n",
    "from scipy.stats import skew\n",
    "from sklearn.preprocessing import StandardScaler\n",
    "from sklearn.preprocessing import LabelEncoder"
   ]
  },
  {
   "cell_type": "code",
   "execution_count": 2,
   "metadata": {},
   "outputs": [],
   "source": [
    "df_train = pd.read_csv('data/train.csv')\n",
    "df_test = pd.read_csv('data/test.csv')\n",
    "\n",
    "df_train['Source'] = 'train'\n",
    "df_test['Source'] = 'test'\n",
    "df_test['Item_Outlet_Sales'] = 0"
   ]
  },
  {
   "cell_type": "code",
   "execution_count": 3,
   "metadata": {},
   "outputs": [
    {
     "name": "stdout",
     "output_type": "stream",
     "text": [
      "(8523, 13)\n",
      "(5681, 13)\n",
      "(14204, 13)\n"
     ]
    },
    {
     "data": {
      "text/html": [
       "<div>\n",
       "<style scoped>\n",
       "    .dataframe tbody tr th:only-of-type {\n",
       "        vertical-align: middle;\n",
       "    }\n",
       "\n",
       "    .dataframe tbody tr th {\n",
       "        vertical-align: top;\n",
       "    }\n",
       "\n",
       "    .dataframe thead th {\n",
       "        text-align: right;\n",
       "    }\n",
       "</style>\n",
       "<table border=\"1\" class=\"dataframe\">\n",
       "  <thead>\n",
       "    <tr style=\"text-align: right;\">\n",
       "      <th></th>\n",
       "      <th>Item_Fat_Content</th>\n",
       "      <th>Item_Identifier</th>\n",
       "      <th>Item_MRP</th>\n",
       "      <th>Item_Outlet_Sales</th>\n",
       "      <th>Item_Type</th>\n",
       "      <th>Item_Visibility</th>\n",
       "      <th>Item_Weight</th>\n",
       "      <th>Outlet_Establishment_Year</th>\n",
       "      <th>Outlet_Identifier</th>\n",
       "      <th>Outlet_Location_Type</th>\n",
       "      <th>Outlet_Size</th>\n",
       "      <th>Outlet_Type</th>\n",
       "      <th>Source</th>\n",
       "    </tr>\n",
       "  </thead>\n",
       "  <tbody>\n",
       "    <tr>\n",
       "      <th>0</th>\n",
       "      <td>Low Fat</td>\n",
       "      <td>FDA15</td>\n",
       "      <td>249.8092</td>\n",
       "      <td>3735.1380</td>\n",
       "      <td>Dairy</td>\n",
       "      <td>0.016047</td>\n",
       "      <td>9.30</td>\n",
       "      <td>1999</td>\n",
       "      <td>OUT049</td>\n",
       "      <td>Tier 1</td>\n",
       "      <td>Medium</td>\n",
       "      <td>Supermarket Type1</td>\n",
       "      <td>train</td>\n",
       "    </tr>\n",
       "    <tr>\n",
       "      <th>1</th>\n",
       "      <td>Regular</td>\n",
       "      <td>DRC01</td>\n",
       "      <td>48.2692</td>\n",
       "      <td>443.4228</td>\n",
       "      <td>Soft Drinks</td>\n",
       "      <td>0.019278</td>\n",
       "      <td>5.92</td>\n",
       "      <td>2009</td>\n",
       "      <td>OUT018</td>\n",
       "      <td>Tier 3</td>\n",
       "      <td>Medium</td>\n",
       "      <td>Supermarket Type2</td>\n",
       "      <td>train</td>\n",
       "    </tr>\n",
       "  </tbody>\n",
       "</table>\n",
       "</div>"
      ],
      "text/plain": [
       "  Item_Fat_Content Item_Identifier  Item_MRP  Item_Outlet_Sales    Item_Type  \\\n",
       "0          Low Fat           FDA15  249.8092          3735.1380        Dairy   \n",
       "1          Regular           DRC01   48.2692           443.4228  Soft Drinks   \n",
       "\n",
       "   Item_Visibility  Item_Weight  Outlet_Establishment_Year Outlet_Identifier  \\\n",
       "0         0.016047         9.30                       1999            OUT049   \n",
       "1         0.019278         5.92                       2009            OUT018   \n",
       "\n",
       "  Outlet_Location_Type Outlet_Size        Outlet_Type Source  \n",
       "0               Tier 1      Medium  Supermarket Type1  train  \n",
       "1               Tier 3      Medium  Supermarket Type2  train  "
      ]
     },
     "execution_count": 3,
     "metadata": {},
     "output_type": "execute_result"
    }
   ],
   "source": [
    "df = pd.concat([df_train,df_test],axis=0,ignore_index=True)\n",
    "print(df_train.shape)\n",
    "print(df_test.shape)\n",
    "print(df.shape)\n",
    "df.head(2)"
   ]
  },
  {
   "cell_type": "markdown",
   "metadata": {},
   "source": [
    "##  Part 1: Data Cleansing and Preparation"
   ]
  },
  {
   "cell_type": "markdown",
   "metadata": {},
   "source": [
    "### 1. Handling casing errors in Fat Content feature"
   ]
  },
  {
   "cell_type": "code",
   "execution_count": 4,
   "metadata": {},
   "outputs": [],
   "source": [
    "def prepare_item_fat_content(df):\n",
    "    df['Item_Fat_Content'] = df['Item_Fat_Content'].astype(str)\n",
    "    df['Item_Fat_Content'] = np.where(df.Item_Fat_Content == 'low fat','Low Fat',df.Item_Fat_Content)\n",
    "    df['Item_Fat_Content'] = np.where(df.Item_Fat_Content == 'LF','Low Fat',df.Item_Fat_Content)\n",
    "    df['Item_Fat_Content'] = np.where(df.Item_Fat_Content == 'reg','Regular',df.Item_Fat_Content)\n",
    "    return df"
   ]
  },
  {
   "cell_type": "markdown",
   "metadata": {},
   "source": [
    "### 2. Handling missing values in Item Weight feature"
   ]
  },
  {
   "cell_type": "code",
   "execution_count": 5,
   "metadata": {},
   "outputs": [],
   "source": [
    "def fill_item_weights(df):\n",
    "    item_avg_weight = df.pivot_table(values='Item_Weight', index='Item_Identifier')\n",
    "    miss_bool = df['Item_Weight'].isnull()\n",
    "    df.loc[miss_bool,'Item_Weight'] = df.loc[miss_bool,'Item_Identifier'].apply(lambda x: item_avg_weight.loc[x])\n",
    "    return df"
   ]
  },
  {
   "cell_type": "markdown",
   "metadata": {},
   "source": [
    "### 3. Finding Outlet Age"
   ]
  },
  {
   "cell_type": "code",
   "execution_count": 6,
   "metadata": {},
   "outputs": [],
   "source": [
    "def find_outlet_age(df):\n",
    "    df['Outlet_Age'] = 2013 - df['Outlet_Establishment_Year']\n",
    "    df.drop('Outlet_Establishment_Year',axis=1,inplace=True)\n",
    "    return df"
   ]
  },
  {
   "cell_type": "markdown",
   "metadata": {},
   "source": [
    "### 4. Handling Missing Values in Outlet Size"
   ]
  },
  {
   "cell_type": "code",
   "execution_count": 7,
   "metadata": {},
   "outputs": [],
   "source": [
    "def prepare_outlet_size(df):\n",
    "    df['Outlet_Size'] = np.where(df.Outlet_Type == 'Grocery Store','Small',df.Outlet_Size)\n",
    "    df['Outlet_Size'] = np.where((df.Outlet_Type == 'Supermarket Type1') & (df.Outlet_Location_Type == 'Tier 2'),'Small',df.Outlet_Size)\n",
    "    return df"
   ]
  },
  {
   "cell_type": "markdown",
   "metadata": {},
   "source": [
    "### 5. Adding Item type feature"
   ]
  },
  {
   "cell_type": "code",
   "execution_count": 8,
   "metadata": {},
   "outputs": [],
   "source": [
    "def add_item_type(df):\n",
    "    df['Item_Type_Derived'] = df['Item_Identifier'].apply(lambda x: x[0:2])\n",
    "    df['Item_Type_Derived'] = df['Item_Type_Derived'].map(\n",
    "    {\n",
    "        'FD':'Food',\n",
    "        'NC':'Non-Consumables',\n",
    "        'DR':'Drinks'\n",
    "    })\n",
    "    return df"
   ]
  },
  {
   "cell_type": "markdown",
   "metadata": {},
   "source": [
    "### 6. Converting Dummy Variables"
   ]
  },
  {
   "cell_type": "code",
   "execution_count": 9,
   "metadata": {},
   "outputs": [],
   "source": [
    "def encode_variables(df,columns):\n",
    "    df_dummies = pd.get_dummies(df[columns])\n",
    "    df = df.drop(columns,axis=1)\n",
    "    return pd.concat([df,df_dummies],axis=1)"
   ]
  },
  {
   "cell_type": "markdown",
   "metadata": {},
   "source": [
    "### 7. Convert Ordinal Variables"
   ]
  },
  {
   "cell_type": "code",
   "execution_count": 10,
   "metadata": {},
   "outputs": [],
   "source": [
    "def convert_ordinal_variables(df, columns):\n",
    "    le = LabelEncoder()\n",
    "    df_cols = df[columns]\n",
    "    cols = df_cols.columns\n",
    "    df_cols = df_cols.apply(le.fit_transform, axis=0)\n",
    "    df.loc[:,cols] = df_cols\n",
    "    return df"
   ]
  },
  {
   "cell_type": "markdown",
   "metadata": {},
   "source": [
    "### 7. Handling Skewness in Target Variable"
   ]
  },
  {
   "cell_type": "code",
   "execution_count": 11,
   "metadata": {},
   "outputs": [],
   "source": [
    "def handle_skewness(df):\n",
    "    df['Item_Outlet_Sales'] = np.sqrt(df_train['Item_Outlet_Sales'])\n",
    "    return df"
   ]
  },
  {
   "cell_type": "markdown",
   "metadata": {},
   "source": [
    "### 8. Handling Item visibilty"
   ]
  },
  {
   "cell_type": "code",
   "execution_count": 12,
   "metadata": {},
   "outputs": [],
   "source": [
    "def handle_visibilty(df):\n",
    "    avg_visibility = df.pivot_table(values='Item_Visibility',index='Item_Identifier')\n",
    "    miss_bool = (df['Item_Visibility'] == 0)\n",
    "    df.loc[miss_bool,'Item_Visibility'] = df.loc[miss_bool,'Item_Identifier'].apply(lambda x: avg_visibility.loc[x])\n",
    "    \n",
    "    return df"
   ]
  },
  {
   "cell_type": "markdown",
   "metadata": {},
   "source": [
    "### 8. Scaling Features"
   ]
  },
  {
   "cell_type": "code",
   "execution_count": 13,
   "metadata": {},
   "outputs": [],
   "source": [
    "def scale_data(df,scaler):\n",
    "    df_cols = df.columns\n",
    "    \n",
    "    numeric_features = df.select_dtypes(include=['float64'])\n",
    "    numeric_features = [feature for feature in numeric_features if feature != 'Item_Outlet_Sales'] \n",
    "    \n",
    "    \n",
    "    #column_transform = df[:,numeric_features].columns\n",
    "    df.loc[:, numeric_features] = scaler.fit_transform(df.loc[:, numeric_features])\n",
    "    \n",
    "    return df"
   ]
  },
  {
   "cell_type": "markdown",
   "metadata": {},
   "source": [
    "### 9. Removing Unique Identifiers"
   ]
  },
  {
   "cell_type": "code",
   "execution_count": 14,
   "metadata": {},
   "outputs": [],
   "source": [
    "def drop_ids(df,ids):\n",
    "    df = df.drop(ids,axis=1)\n",
    "    return df"
   ]
  },
  {
   "cell_type": "markdown",
   "metadata": {},
   "source": [
    "### 10. Removing unnecessary columns and create cleaned data files"
   ]
  },
  {
   "cell_type": "code",
   "execution_count": 15,
   "metadata": {},
   "outputs": [],
   "source": [
    "def remove_nonsense(df):\n",
    "    data_train = df.loc[df.Source == 'train',:]\n",
    "    data_test = df.loc[df.Source == 'test',:]\n",
    "    \n",
    "    data_train.drop(['Source'],axis=1,inplace=True)\n",
    "    data_test.drop(['Item_Outlet_Sales','Source'],axis=1,inplace=True)\n",
    "    \n",
    "    data_train.to_csv('data/train_modified.csv')\n",
    "    data_test.to_csv('data/test_modified.csv')"
   ]
  },
  {
   "cell_type": "code",
   "execution_count": 16,
   "metadata": {
    "scrolled": false
   },
   "outputs": [
    {
     "name": "stderr",
     "output_type": "stream",
     "text": [
      "/home/mohammed/anaconda3/lib/python3.6/site-packages/ipykernel_launcher.py:5: SettingWithCopyWarning: \n",
      "A value is trying to be set on a copy of a slice from a DataFrame\n",
      "\n",
      "See the caveats in the documentation: http://pandas.pydata.org/pandas-docs/stable/indexing.html#indexing-view-versus-copy\n",
      "  \"\"\"\n",
      "/home/mohammed/anaconda3/lib/python3.6/site-packages/ipykernel_launcher.py:6: SettingWithCopyWarning: \n",
      "A value is trying to be set on a copy of a slice from a DataFrame\n",
      "\n",
      "See the caveats in the documentation: http://pandas.pydata.org/pandas-docs/stable/indexing.html#indexing-view-versus-copy\n",
      "  \n"
     ]
    }
   ],
   "source": [
    "df = prepare_item_fat_content(df)\n",
    "df = fill_item_weights(df)\n",
    "df = find_outlet_age(df)\n",
    "df = prepare_outlet_size(df)\n",
    "df = add_item_type(df)\n",
    "\n",
    "df = encode_variables(df,['Item_Fat_Content','Item_Type','Item_Type_Derived','Outlet_Type','Outlet_Identifier'])\n",
    "df = convert_ordinal_variables(df,['Outlet_Location_Type','Outlet_Size'])\n",
    "df = handle_visibilty(df)\n",
    "\n",
    "df = scale_data(df,StandardScaler())\n",
    "df = drop_ids(df,['Item_Identifier'])\n",
    "\n",
    "remove_nonsense(df)\n"
   ]
  },
  {
   "cell_type": "code",
   "execution_count": null,
   "metadata": {},
   "outputs": [],
   "source": []
  }
 ],
 "metadata": {
  "kernelspec": {
   "display_name": "Python 3",
   "language": "python",
   "name": "python3"
  },
  "language_info": {
   "codemirror_mode": {
    "name": "ipython",
    "version": 3
   },
   "file_extension": ".py",
   "mimetype": "text/x-python",
   "name": "python",
   "nbconvert_exporter": "python",
   "pygments_lexer": "ipython3",
   "version": "3.6.4"
  }
 },
 "nbformat": 4,
 "nbformat_minor": 2
}
